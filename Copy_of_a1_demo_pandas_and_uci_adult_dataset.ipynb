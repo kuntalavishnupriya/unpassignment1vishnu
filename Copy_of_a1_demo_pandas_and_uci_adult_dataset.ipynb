{
  "nbformat": 4,
  "nbformat_minor": 0,
  "metadata": {
    "anaconda-cloud": {},
    "kernelspec": {
      "display_name": "Python 3",
      "language": "python",
      "name": "python3"
    },
    "language_info": {
      "codemirror_mode": {
        "name": "ipython",
        "version": 3
      },
      "file_extension": ".py",
      "mimetype": "text/x-python",
      "name": "python",
      "nbconvert_exporter": "python",
      "pygments_lexer": "ipython3",
      "version": "3.7.3"
    },
    "colab": {
      "name": "Copy of a1-demo-pandas-and-uci-adult-dataset.ipynb",
      "provenance": [],
      "include_colab_link": true
    }
  },
  "cells": [
    {
      "cell_type": "markdown",
      "metadata": {
        "id": "view-in-github",
        "colab_type": "text"
      },
      "source": [
        "<a href=\"https://colab.research.google.com/github/kuntalavishnupriya/unpassignment1vishnu/blob/main/Copy_of_a1_demo_pandas_and_uci_adult_dataset.ipynb\" target=\"_parent\"><img src=\"https://colab.research.google.com/assets/colab-badge.svg\" alt=\"Open In Colab\"/></a>"
      ]
    },
    {
      "cell_type": "markdown",
      "metadata": {
        "_uuid": "998fc5f76227ab1df9460a7b05c508304b14b3a6",
        "id": "bmPcZ6uEFA-G"
      },
      "source": [
        "# <center> Assignment #1 (demo)\n",
        "## <center>  Exploratory data analysis with Pandas\n"
      ]
    },
    {
      "cell_type": "markdown",
      "metadata": {
        "_uuid": "89ef93231815456f4e0bc5dcc00b094aee800993",
        "id": "YT6h3dowFA-m"
      },
      "source": [
        "**In this task you should use Pandas to answer a few questions about the [Adult](https://archive.ics.uci.edu/ml/datasets/Adult) dataset. (You don't have to download the data – it's already here). **"
      ]
    },
    {
      "cell_type": "markdown",
      "metadata": {
        "_uuid": "c322301ac858c748f8f80e63cf6f734fc70dde30",
        "id": "VX4tcxUuFA-r"
      },
      "source": [
        "Unique values of all features (for more information, please see the links above):\n",
        "- `age`: continuous.\n",
        "- `workclass`: Private, Self-emp-not-inc, Self-emp-inc, Federal-gov, Local-gov, State-gov, Without-pay, Never-worked.\n",
        "- `fnlwgt`: continuous.\n",
        "- `education`: Bachelors, Some-college, 11th, HS-grad, Prof-school, Assoc-acdm, Assoc-voc, 9th, 7th-8th, 12th, Masters, 1st-4th, 10th, Doctorate, 5th-6th, Preschool.\n",
        "- `education-num`: continuous.\n",
        "- `marital-status`: Married-civ-spouse, Divorced, Never-married, Separated, Widowed, Married-spouse-absent, Married-AF-spouse.\n",
        "- `occupation`: Tech-support, Craft-repair, Other-service, Sales, Exec-managerial, Prof-specialty, Handlers-cleaners, Machine-op-inspct, Adm-clerical, Farming-fishing, Transport-moving, Priv-house-serv, Protective-serv, Armed-Forces.\n",
        "- `relationship`: Wife, Own-child, Husband, Not-in-family, Other-relative, Unmarried.\n",
        "- `race`: White, Asian-Pac-Islander, Amer-Indian-Eskimo, Other, Black.\n",
        "- `sex`: Female, Male.\n",
        "- `capital-gain`: continuous.\n",
        "- `capital-loss`: continuous.\n",
        "- `hours-per-week`: continuous.\n",
        "- `native-country`: United-States, Cambodia, England, Puerto-Rico, Canada, Germany, Outlying-US(Guam-USVI-etc), India, Japan, Greece, South, China, Cuba, Iran, Honduras, Philippines, Italy, Poland, Jamaica, Vietnam, Mexico, Portugal, Ireland, France, Dominican-Republic, Laos, Ecuador, Taiwan, Haiti, Columbia, Hungary, Guatemala, Nicaragua, Scotland, Thailand, Yugoslavia, El-Salvador, Trinadad&Tobago, Peru, Hong, Holand-Netherlands.   \n",
        "- `salary`: >50K,<=50K"
      ]
    },
    {
      "cell_type": "code",
      "metadata": {
        "_uuid": "d3eb2411e23b7db11e4cbbb498a42752442a6f4c",
        "collapsed": true,
        "id": "t86PW-MdFA-w"
      },
      "source": [
        "import numpy as np\n",
        "import pandas as pd"
      ],
      "execution_count": 1,
      "outputs": []
    },
    {
      "cell_type": "code",
      "metadata": {
        "_uuid": "c5119d1b8151029b4ff57735c4279b795ae492a2",
        "id": "LGo_0_TOFA-4",
        "colab": {
          "base_uri": "https://localhost:8080/",
          "height": 310
        },
        "outputId": "940b706d-bd5f-44f1-9c63-31ee20b54b8a"
      },
      "source": [
        "data = pd.read_csv(\"https://archive.ics.uci.edu/ml/machine-learning-databases/adult/adult.data\",\n",
        "                   names=[\"age\",\"workclass\",\"fnlwgt\",\"education\",\"education-num\",\"marital-status\",\"occupation\",\"relationship\",\"race\",\"sex\",\"capital-gain\",\n",
        "                          \"captal-loss\",\"hours-per-week\",\"native-country\",\"salary\"],sep=\",\")\n",
        "data.head()"
      ],
      "execution_count": 2,
      "outputs": [
        {
          "output_type": "execute_result",
          "data": {
            "text/html": [
              "<div>\n",
              "<style scoped>\n",
              "    .dataframe tbody tr th:only-of-type {\n",
              "        vertical-align: middle;\n",
              "    }\n",
              "\n",
              "    .dataframe tbody tr th {\n",
              "        vertical-align: top;\n",
              "    }\n",
              "\n",
              "    .dataframe thead th {\n",
              "        text-align: right;\n",
              "    }\n",
              "</style>\n",
              "<table border=\"1\" class=\"dataframe\">\n",
              "  <thead>\n",
              "    <tr style=\"text-align: right;\">\n",
              "      <th></th>\n",
              "      <th>age</th>\n",
              "      <th>workclass</th>\n",
              "      <th>fnlwgt</th>\n",
              "      <th>education</th>\n",
              "      <th>education-num</th>\n",
              "      <th>marital-status</th>\n",
              "      <th>occupation</th>\n",
              "      <th>relationship</th>\n",
              "      <th>race</th>\n",
              "      <th>sex</th>\n",
              "      <th>capital-gain</th>\n",
              "      <th>captal-loss</th>\n",
              "      <th>hours-per-week</th>\n",
              "      <th>native-country</th>\n",
              "      <th>salary</th>\n",
              "    </tr>\n",
              "  </thead>\n",
              "  <tbody>\n",
              "    <tr>\n",
              "      <th>0</th>\n",
              "      <td>39</td>\n",
              "      <td>State-gov</td>\n",
              "      <td>77516</td>\n",
              "      <td>Bachelors</td>\n",
              "      <td>13</td>\n",
              "      <td>Never-married</td>\n",
              "      <td>Adm-clerical</td>\n",
              "      <td>Not-in-family</td>\n",
              "      <td>White</td>\n",
              "      <td>Male</td>\n",
              "      <td>2174</td>\n",
              "      <td>0</td>\n",
              "      <td>40</td>\n",
              "      <td>United-States</td>\n",
              "      <td>&lt;=50K</td>\n",
              "    </tr>\n",
              "    <tr>\n",
              "      <th>1</th>\n",
              "      <td>50</td>\n",
              "      <td>Self-emp-not-inc</td>\n",
              "      <td>83311</td>\n",
              "      <td>Bachelors</td>\n",
              "      <td>13</td>\n",
              "      <td>Married-civ-spouse</td>\n",
              "      <td>Exec-managerial</td>\n",
              "      <td>Husband</td>\n",
              "      <td>White</td>\n",
              "      <td>Male</td>\n",
              "      <td>0</td>\n",
              "      <td>0</td>\n",
              "      <td>13</td>\n",
              "      <td>United-States</td>\n",
              "      <td>&lt;=50K</td>\n",
              "    </tr>\n",
              "    <tr>\n",
              "      <th>2</th>\n",
              "      <td>38</td>\n",
              "      <td>Private</td>\n",
              "      <td>215646</td>\n",
              "      <td>HS-grad</td>\n",
              "      <td>9</td>\n",
              "      <td>Divorced</td>\n",
              "      <td>Handlers-cleaners</td>\n",
              "      <td>Not-in-family</td>\n",
              "      <td>White</td>\n",
              "      <td>Male</td>\n",
              "      <td>0</td>\n",
              "      <td>0</td>\n",
              "      <td>40</td>\n",
              "      <td>United-States</td>\n",
              "      <td>&lt;=50K</td>\n",
              "    </tr>\n",
              "    <tr>\n",
              "      <th>3</th>\n",
              "      <td>53</td>\n",
              "      <td>Private</td>\n",
              "      <td>234721</td>\n",
              "      <td>11th</td>\n",
              "      <td>7</td>\n",
              "      <td>Married-civ-spouse</td>\n",
              "      <td>Handlers-cleaners</td>\n",
              "      <td>Husband</td>\n",
              "      <td>Black</td>\n",
              "      <td>Male</td>\n",
              "      <td>0</td>\n",
              "      <td>0</td>\n",
              "      <td>40</td>\n",
              "      <td>United-States</td>\n",
              "      <td>&lt;=50K</td>\n",
              "    </tr>\n",
              "    <tr>\n",
              "      <th>4</th>\n",
              "      <td>28</td>\n",
              "      <td>Private</td>\n",
              "      <td>338409</td>\n",
              "      <td>Bachelors</td>\n",
              "      <td>13</td>\n",
              "      <td>Married-civ-spouse</td>\n",
              "      <td>Prof-specialty</td>\n",
              "      <td>Wife</td>\n",
              "      <td>Black</td>\n",
              "      <td>Female</td>\n",
              "      <td>0</td>\n",
              "      <td>0</td>\n",
              "      <td>40</td>\n",
              "      <td>Cuba</td>\n",
              "      <td>&lt;=50K</td>\n",
              "    </tr>\n",
              "  </tbody>\n",
              "</table>\n",
              "</div>"
            ],
            "text/plain": [
              "   age          workclass  fnlwgt  ... hours-per-week  native-country  salary\n",
              "0   39          State-gov   77516  ...             40   United-States   <=50K\n",
              "1   50   Self-emp-not-inc   83311  ...             13   United-States   <=50K\n",
              "2   38            Private  215646  ...             40   United-States   <=50K\n",
              "3   53            Private  234721  ...             40   United-States   <=50K\n",
              "4   28            Private  338409  ...             40            Cuba   <=50K\n",
              "\n",
              "[5 rows x 15 columns]"
            ]
          },
          "metadata": {},
          "execution_count": 2
        }
      ]
    },
    {
      "cell_type": "markdown",
      "metadata": {
        "_uuid": "6b19853f936853d40971b56f4d298ab55ee78cac",
        "id": "wOWWMJEtFA-6"
      },
      "source": [
        "**1. How many men and women (*sex* feature) are represented in this dataset?** "
      ]
    },
    {
      "cell_type": "code",
      "metadata": {
        "_uuid": "d32cafcbe966dbdfa40c3017d16d6f8c96bfb3e2",
        "id": "YE1eaix_FA-8",
        "colab": {
          "base_uri": "https://localhost:8080/"
        },
        "outputId": "1da166c3-1d0c-4517-ee99-598fc7b2f9c0"
      },
      "source": [
        "data['sex'].value_counts()\n"
      ],
      "execution_count": 3,
      "outputs": [
        {
          "output_type": "execute_result",
          "data": {
            "text/plain": [
              " Male      21790\n",
              " Female    10771\n",
              "Name: sex, dtype: int64"
            ]
          },
          "metadata": {},
          "execution_count": 3
        }
      ]
    },
    {
      "cell_type": "markdown",
      "metadata": {
        "_uuid": "4748793234a5d325ea60d13331ecf93e29774523",
        "id": "GZR_u6OxFA_F"
      },
      "source": [
        "**2. What is the average age (*age* feature) of women?**"
      ]
    },
    {
      "cell_type": "code",
      "metadata": {
        "_uuid": "64f60d928855107d8980875656dcdf3587d91646",
        "id": "PaTyUAuQFA_N",
        "colab": {
          "base_uri": "https://localhost:8080/"
        },
        "outputId": "ab8ac43a-1c0d-49ca-b947-2cd9b8c56bf5"
      },
      "source": [
        "data.loc[data['sex'] == ' Female','age'].mean()"
      ],
      "execution_count": 4,
      "outputs": [
        {
          "output_type": "execute_result",
          "data": {
            "text/plain": [
              "36.85823043357163"
            ]
          },
          "metadata": {},
          "execution_count": 4
        }
      ]
    },
    {
      "cell_type": "markdown",
      "metadata": {
        "_uuid": "80e87c421c348067e88769c64e554206c51727d1",
        "id": "AwzliIv6FA_W"
      },
      "source": [
        "**3. What is the percentage of German citizens (*native-country* feature)?**"
      ]
    },
    {
      "cell_type": "code",
      "metadata": {
        "colab": {
          "base_uri": "https://localhost:8080/"
        },
        "id": "JsY1cNsXGKyM",
        "outputId": "9c6999d0-2e84-4d89-e8ca-0e3329bdf65c"
      },
      "source": [
        "float((data[\"native-country\"]==\"Germany\").sum())/data.shape[0]"
      ],
      "execution_count": 5,
      "outputs": [
        {
          "output_type": "execute_result",
          "data": {
            "text/plain": [
              "0.0"
            ]
          },
          "metadata": {},
          "execution_count": 5
        }
      ]
    },
    {
      "cell_type": "markdown",
      "metadata": {
        "_uuid": "be9911cf525df4fca2c1d14b8720bc8a82f462e7",
        "id": "GhyVpaY1FA_a"
      },
      "source": [
        "\n",
        "**4-5. What are the mean and standard deviation of age for those who earn more than 50K per year (*salary* feature) and those who earn less than 50K per year? **"
      ]
    },
    {
      "cell_type": "markdown",
      "metadata": {
        "id": "ay6T3pQFAYl0"
      },
      "source": [
        "# You code here \n",
        "data.loc[data['salary']==' >50k' ,'age' ].mean()\n"
      ]
    },
    {
      "cell_type": "code",
      "metadata": {
        "colab": {
          "base_uri": "https://localhost:8080/"
        },
        "id": "P034ymYzqXdZ",
        "outputId": "06f1841d-b0eb-4438-8c78-03abc54e6a01"
      },
      "source": [
        "data.info()\n"
      ],
      "execution_count": 26,
      "outputs": [
        {
          "output_type": "stream",
          "name": "stdout",
          "text": [
            "<class 'pandas.core.frame.DataFrame'>\n",
            "RangeIndex: 32561 entries, 0 to 32560\n",
            "Data columns (total 15 columns):\n",
            " #   Column          Non-Null Count  Dtype \n",
            "---  ------          --------------  ----- \n",
            " 0   age             32561 non-null  int64 \n",
            " 1   workclass       32561 non-null  object\n",
            " 2   fnlwgt          32561 non-null  int64 \n",
            " 3   education       32561 non-null  object\n",
            " 4   education-num   32561 non-null  int64 \n",
            " 5   marital-status  32561 non-null  object\n",
            " 6   occupation      32561 non-null  object\n",
            " 7   relationship    32561 non-null  object\n",
            " 8   race            32561 non-null  object\n",
            " 9   sex             32561 non-null  object\n",
            " 10  capital-gain    32561 non-null  int64 \n",
            " 11  captal-loss     32561 non-null  int64 \n",
            " 12  hours-per-week  32561 non-null  int64 \n",
            " 13  native-country  32561 non-null  object\n",
            " 14  salary          32561 non-null  object\n",
            "dtypes: int64(6), object(9)\n",
            "memory usage: 3.7+ MB\n"
          ]
        }
      ]
    },
    {
      "cell_type": "code",
      "metadata": {
        "colab": {
          "base_uri": "https://localhost:8080/"
        },
        "id": "Q02pfBLZq8VA",
        "outputId": "f68f30de-118e-47cb-df17-64443812574d"
      },
      "source": [
        "data.loc[data['salary']==  ' <=50K','age'].mean()"
      ],
      "execution_count": 29,
      "outputs": [
        {
          "output_type": "execute_result",
          "data": {
            "text/plain": [
              "36.78373786407767"
            ]
          },
          "metadata": {},
          "execution_count": 29
        }
      ]
    },
    {
      "cell_type": "code",
      "metadata": {
        "id": "Qb9B3fitqObe"
      },
      "source": [
        ""
      ],
      "execution_count": null,
      "outputs": []
    },
    {
      "cell_type": "code",
      "metadata": {
        "colab": {
          "base_uri": "https://localhost:8080/"
        },
        "id": "QGg-wXYOdyOO",
        "outputId": "742efe20-6191-4d37-988b-eef7ea41a0f6"
      },
      "source": [
        "data.loc[data['salary'] ==  ' >50K','age'].mean()"
      ],
      "execution_count": 30,
      "outputs": [
        {
          "output_type": "execute_result",
          "data": {
            "text/plain": [
              "44.24984058155847"
            ]
          },
          "metadata": {},
          "execution_count": 30
        }
      ]
    },
    {
      "cell_type": "code",
      "metadata": {
        "colab": {
          "base_uri": "https://localhost:8080/"
        },
        "id": "YG6G51bne4FY",
        "outputId": "cbc55f4b-f72e-472d-c563-d83f2c1075de"
      },
      "source": [
        " data.loc[data['salary']==  ' <=50K','age'].std()"
      ],
      "execution_count": 36,
      "outputs": [
        {
          "output_type": "execute_result",
          "data": {
            "text/plain": [
              "14.020088490824813"
            ]
          },
          "metadata": {},
          "execution_count": 36
        }
      ]
    },
    {
      "cell_type": "code",
      "metadata": {
        "id": "7730PBDSfS_j",
        "colab": {
          "base_uri": "https://localhost:8080/"
        },
        "outputId": "b18cf744-70c2-4e63-f695-8577493e471a"
      },
      "source": [
        " data.loc[data['salary'] == ' >50K','age'].std()"
      ],
      "execution_count": 37,
      "outputs": [
        {
          "output_type": "execute_result",
          "data": {
            "text/plain": [
              "10.51902771985177"
            ]
          },
          "metadata": {},
          "execution_count": 37
        }
      ]
    },
    {
      "cell_type": "markdown",
      "metadata": {
        "_uuid": "180c3fe6f8b250b877c1d86866067b80acabdb64",
        "id": "bDUT9NC5FA_d"
      },
      "source": [
        "**6. Is it true that people who earn more than 50K have at least high school education? (*education – Bachelors, Prof-school, Assoc-acdm, Assoc-voc, Masters* or *Doctorate* feature)**"
      ]
    },
    {
      "cell_type": "code",
      "metadata": {
        "_uuid": "58f38ebfa2b0e1418a6a1a680d0743697f9876a2",
        "id": "Rxc9Wu4fFA_f",
        "colab": {
          "base_uri": "https://localhost:8080/"
        },
        "outputId": "016cdb0d-d847-4e95-934f-3292dcf38463"
      },
      "source": [
        " data.loc[data['salary'] ==  ' >50K' , 'education'].unique()"
      ],
      "execution_count": 40,
      "outputs": [
        {
          "output_type": "execute_result",
          "data": {
            "text/plain": [
              "array([' HS-grad', ' Masters', ' Bachelors', ' Some-college',\n",
              "       ' Assoc-voc', ' Doctorate', ' Prof-school', ' Assoc-acdm',\n",
              "       ' 7th-8th', ' 12th', ' 10th', ' 11th', ' 9th', ' 5th-6th',\n",
              "       ' 1st-4th'], dtype=object)"
            ]
          },
          "metadata": {},
          "execution_count": 40
        }
      ]
    },
    {
      "cell_type": "markdown",
      "metadata": {
        "_uuid": "87d6bc9ec1c230e66416ce94533ea250368009cc",
        "id": "ZTZ02U8OFA_g"
      },
      "source": [
        "**7. Display age statistics for each race (*race* feature) and each gender (*sex* feature). Use *groupby()* and *describe()*. Find the maximum age of men of *Amer-Indian-Eskimo* race.**"
      ]
    },
    {
      "cell_type": "code",
      "metadata": {
        "_uuid": "a4567b72200b583f7f2ee1583405d636c12169db",
        "id": "2wI0UtfPFA_l",
        "colab": {
          "base_uri": "https://localhost:8080/"
        },
        "outputId": "96da1817-5cf7-48a9-8225-f6c8042b91fe"
      },
      "source": [
        "for(race,sex),sub_df in data.groupby(['race', 'sex']):\n",
        "   print(\"Race:{0},sex:{1}\".format(race,sex))\n",
        "   print(sub_df['age'].describe())"
      ],
      "execution_count": null,
      "outputs": [
        {
          "output_type": "stream",
          "name": "stdout",
          "text": [
            "Race: Amer-Indian-Eskimo,sex: Female\n",
            "count    119.000000\n",
            "mean      37.117647\n",
            "std       13.114991\n",
            "min       17.000000\n",
            "25%       27.000000\n",
            "50%       36.000000\n",
            "75%       46.000000\n",
            "max       80.000000\n",
            "Name: age, dtype: float64\n",
            "Race: Amer-Indian-Eskimo,sex: Male\n",
            "count    192.000000\n",
            "mean      37.208333\n",
            "std       12.049563\n",
            "min       17.000000\n",
            "25%       28.000000\n",
            "50%       35.000000\n",
            "75%       45.000000\n",
            "max       82.000000\n",
            "Name: age, dtype: float64\n",
            "Race: Asian-Pac-Islander,sex: Female\n",
            "count    346.000000\n",
            "mean      35.089595\n",
            "std       12.300845\n",
            "min       17.000000\n",
            "25%       25.000000\n",
            "50%       33.000000\n",
            "75%       43.750000\n",
            "max       75.000000\n",
            "Name: age, dtype: float64\n",
            "Race: Asian-Pac-Islander,sex: Male\n",
            "count    693.000000\n",
            "mean      39.073593\n",
            "std       12.883944\n",
            "min       18.000000\n",
            "25%       29.000000\n",
            "50%       37.000000\n",
            "75%       46.000000\n",
            "max       90.000000\n",
            "Name: age, dtype: float64\n",
            "Race: Black,sex: Female\n",
            "count    1555.000000\n",
            "mean       37.854019\n",
            "std        12.637197\n",
            "min        17.000000\n",
            "25%        28.000000\n",
            "50%        37.000000\n",
            "75%        46.000000\n",
            "max        90.000000\n",
            "Name: age, dtype: float64\n",
            "Race: Black,sex: Male\n",
            "count    1569.000000\n",
            "mean       37.682600\n",
            "std        12.882612\n",
            "min        17.000000\n",
            "25%        27.000000\n",
            "50%        36.000000\n",
            "75%        46.000000\n",
            "max        90.000000\n",
            "Name: age, dtype: float64\n",
            "Race: Other,sex: Female\n",
            "count    109.000000\n",
            "mean      31.678899\n",
            "std       11.631599\n",
            "min       17.000000\n",
            "25%       23.000000\n",
            "50%       29.000000\n",
            "75%       39.000000\n",
            "max       74.000000\n",
            "Name: age, dtype: float64\n",
            "Race: Other,sex: Male\n",
            "count    162.000000\n",
            "mean      34.654321\n",
            "std       11.355531\n",
            "min       17.000000\n",
            "25%       26.000000\n",
            "50%       32.000000\n",
            "75%       42.000000\n",
            "max       77.000000\n",
            "Name: age, dtype: float64\n",
            "Race: White,sex: Female\n",
            "count    8642.000000\n",
            "mean       36.811618\n",
            "std        14.329093\n",
            "min        17.000000\n",
            "25%        25.000000\n",
            "50%        35.000000\n",
            "75%        46.000000\n",
            "max        90.000000\n",
            "Name: age, dtype: float64\n",
            "Race: White,sex: Male\n",
            "count    19174.000000\n",
            "mean        39.652498\n",
            "std         13.436029\n",
            "min         17.000000\n",
            "25%         29.000000\n",
            "50%         38.000000\n",
            "75%         49.000000\n",
            "max         90.000000\n",
            "Name: age, dtype: float64\n"
          ]
        }
      ]
    },
    {
      "cell_type": "markdown",
      "metadata": {
        "_uuid": "19411d604b0d4337a4a048a2f0e898541f39ab76",
        "id": "A3zTwBFWFA_o"
      },
      "source": [
        "**8. Among whom is the proportion of those who earn a lot (>50K) greater: married or single men (*marital-status* feature)? Consider as married those who have a *marital-status* starting with *Married* (Married-civ-spouse, Married-spouse-absent or Married-AF-spouse), the rest are considered bachelors.**"
      ]
    },
    {
      "cell_type": "code",
      "metadata": {
        "_uuid": "5bb3a8524fcbd794707075ccf6aaf8dd0f30a3dd",
        "collapsed": true,
        "id": "45WzKjf0FA_q",
        "colab": {
          "base_uri": "https://localhost:8080/"
        },
        "outputId": "3aa9b918-b7a4-466b-ec88-e6d11f602374"
      },
      "source": [
        "data.loc[(data['sex'] == 'Male') &\n",
        "         (data['marital-status'].isin(['Never-married',\n",
        "                                       'separated',\n",
        "                                       'Divorced',\n",
        "                                       'widowed'])), 'salary'].value_counts()"
      ],
      "execution_count": null,
      "outputs": [
        {
          "output_type": "execute_result",
          "data": {
            "text/plain": [
              "Series([], Name: salary, dtype: int64)"
            ]
          },
          "metadata": {},
          "execution_count": 32
        }
      ]
    },
    {
      "cell_type": "markdown",
      "metadata": {
        "_uuid": "34f2076e7d331b95a23b990372809b709d2c8183",
        "id": "Lkr0nXZEFA_r"
      },
      "source": [
        "**9. What is the maximum number of hours a person works per week (*hours-per-week* feature)? How many people work such a number of hours, and what is the percentage of those who earn a lot (>50K) among them?**"
      ]
    },
    {
      "cell_type": "code",
      "metadata": {
        "_uuid": "3571468172fc4bcf34e10b3d6ab358d4e41f7ef4",
        "collapsed": true,
        "id": "6NzMUI-tFA_s",
        "colab": {
          "base_uri": "https://localhost:8080/"
        },
        "outputId": "8de9ea2c-83db-43f1-96a3-bc6779ebd1ce"
      },
      "source": [
        "max_load = data['hours-per-week'].max()\n",
        "print(\"Max time - {0} hours./week.\".format(max_load))\n",
        "\n",
        "num_workaholics = data[data['hours-per-week'] == max_load].shape[0]\n",
        "print(\"Total number of such hard workers {0}\".format(num_workaholics))\n",
        "\n",
        "rich_share = float(data[(data['hours-per-week'] == max_load)\n",
        "&(data['salary'] == '>50k')].shape[0]) / num_workaholics\n",
        "\n",
        "print(\"Percentage of rich among them {0}%\".format(int(100 * rich_share)))"
      ],
      "execution_count": null,
      "outputs": [
        {
          "output_type": "stream",
          "name": "stdout",
          "text": [
            "Max time - 99 hours./week.\n",
            "Total number of such hard workers 85\n",
            "Percentage of rich among them 0%\n"
          ]
        }
      ]
    },
    {
      "cell_type": "markdown",
      "metadata": {
        "_uuid": "d539d4d137fac1c5ea25bc516188eb657d67e9b4",
        "id": "TAx8Z-UYFA_t"
      },
      "source": [
        "**10. Count the average time of work (*hours-per-week*) for those who earn a little and a lot (*salary*) for each country (*native-country*). What will these be for Japan?**"
      ]
    },
    {
      "cell_type": "code",
      "metadata": {
        "_uuid": "75a93411f1e3b519afcc27c026aaa0c67eb526e9",
        "collapsed": true,
        "id": "u7URiTX6FA_u",
        "colab": {
          "base_uri": "https://localhost:8080/"
        },
        "outputId": "d866b6ff-7fcd-41b8-f698-4ce24a61b28b"
      },
      "source": [
        "for (country,salary), sub_df in data.groupby(['native-country', 'salary']):\n",
        "    print(country,salary,round(sub_df['hours-per-week'].mean(), 2))"
      ],
      "execution_count": null,
      "outputs": [
        {
          "output_type": "stream",
          "name": "stdout",
          "text": [
            " ?  <=50K 40.16\n",
            " ?  >50K 45.55\n",
            " Cambodia  <=50K 41.42\n",
            " Cambodia  >50K 40.0\n",
            " Canada  <=50K 37.91\n",
            " Canada  >50K 45.64\n",
            " China  <=50K 37.38\n",
            " China  >50K 38.9\n",
            " Columbia  <=50K 38.68\n",
            " Columbia  >50K 50.0\n",
            " Cuba  <=50K 37.99\n",
            " Cuba  >50K 42.44\n",
            " Dominican-Republic  <=50K 42.34\n",
            " Dominican-Republic  >50K 47.0\n",
            " Ecuador  <=50K 38.04\n",
            " Ecuador  >50K 48.75\n",
            " El-Salvador  <=50K 36.03\n",
            " El-Salvador  >50K 45.0\n",
            " England  <=50K 40.48\n",
            " England  >50K 44.53\n",
            " France  <=50K 41.06\n",
            " France  >50K 50.75\n",
            " Germany  <=50K 39.14\n",
            " Germany  >50K 44.98\n",
            " Greece  <=50K 41.81\n",
            " Greece  >50K 50.62\n",
            " Guatemala  <=50K 39.36\n",
            " Guatemala  >50K 36.67\n",
            " Haiti  <=50K 36.33\n",
            " Haiti  >50K 42.75\n",
            " Holand-Netherlands  <=50K 40.0\n",
            " Honduras  <=50K 34.33\n",
            " Honduras  >50K 60.0\n",
            " Hong  <=50K 39.14\n",
            " Hong  >50K 45.0\n",
            " Hungary  <=50K 31.3\n",
            " Hungary  >50K 50.0\n",
            " India  <=50K 38.23\n",
            " India  >50K 46.48\n",
            " Iran  <=50K 41.44\n",
            " Iran  >50K 47.5\n",
            " Ireland  <=50K 40.95\n",
            " Ireland  >50K 48.0\n",
            " Italy  <=50K 39.62\n",
            " Italy  >50K 45.4\n",
            " Jamaica  <=50K 38.24\n",
            " Jamaica  >50K 41.1\n",
            " Japan  <=50K 41.0\n",
            " Japan  >50K 47.96\n",
            " Laos  <=50K 40.38\n",
            " Laos  >50K 40.0\n",
            " Mexico  <=50K 40.0\n",
            " Mexico  >50K 46.58\n",
            " Nicaragua  <=50K 36.09\n",
            " Nicaragua  >50K 37.5\n",
            " Outlying-US(Guam-USVI-etc)  <=50K 41.86\n",
            " Peru  <=50K 35.07\n",
            " Peru  >50K 40.0\n",
            " Philippines  <=50K 38.07\n",
            " Philippines  >50K 43.03\n",
            " Poland  <=50K 38.17\n",
            " Poland  >50K 39.0\n",
            " Portugal  <=50K 41.94\n",
            " Portugal  >50K 41.5\n",
            " Puerto-Rico  <=50K 38.47\n",
            " Puerto-Rico  >50K 39.42\n",
            " Scotland  <=50K 39.44\n",
            " Scotland  >50K 46.67\n",
            " South  <=50K 40.16\n",
            " South  >50K 51.44\n",
            " Taiwan  <=50K 33.77\n",
            " Taiwan  >50K 46.8\n",
            " Thailand  <=50K 42.87\n",
            " Thailand  >50K 58.33\n",
            " Trinadad&Tobago  <=50K 37.06\n",
            " Trinadad&Tobago  >50K 40.0\n",
            " United-States  <=50K 38.8\n",
            " United-States  >50K 45.51\n",
            " Vietnam  <=50K 37.19\n",
            " Vietnam  >50K 39.2\n",
            " Yugoslavia  <=50K 41.6\n",
            " Yugoslavia  >50K 49.5\n"
          ]
        }
      ]
    },
    {
      "cell_type": "code",
      "metadata": {
        "colab": {
          "base_uri": "https://localhost:8080/",
          "height": 198
        },
        "id": "tZoyjnCqcqku",
        "outputId": "613dbc1e-75d4-4a60-e114-638d09af697f"
      },
      "source": [
        "pd.crosstab(data['native-country'], data['salary'],\n",
        "            values=data['hours-per-week'],aggfunc=np.mean).T"
      ],
      "execution_count": null,
      "outputs": [
        {
          "output_type": "execute_result",
          "data": {
            "text/html": [
              "<div>\n",
              "<style scoped>\n",
              "    .dataframe tbody tr th:only-of-type {\n",
              "        vertical-align: middle;\n",
              "    }\n",
              "\n",
              "    .dataframe tbody tr th {\n",
              "        vertical-align: top;\n",
              "    }\n",
              "\n",
              "    .dataframe thead th {\n",
              "        text-align: right;\n",
              "    }\n",
              "</style>\n",
              "<table border=\"1\" class=\"dataframe\">\n",
              "  <thead>\n",
              "    <tr style=\"text-align: right;\">\n",
              "      <th>native-country</th>\n",
              "      <th>?</th>\n",
              "      <th>Cambodia</th>\n",
              "      <th>Canada</th>\n",
              "      <th>China</th>\n",
              "      <th>Columbia</th>\n",
              "      <th>Cuba</th>\n",
              "      <th>Dominican-Republic</th>\n",
              "      <th>Ecuador</th>\n",
              "      <th>El-Salvador</th>\n",
              "      <th>England</th>\n",
              "      <th>France</th>\n",
              "      <th>Germany</th>\n",
              "      <th>Greece</th>\n",
              "      <th>Guatemala</th>\n",
              "      <th>Haiti</th>\n",
              "      <th>Holand-Netherlands</th>\n",
              "      <th>Honduras</th>\n",
              "      <th>Hong</th>\n",
              "      <th>Hungary</th>\n",
              "      <th>India</th>\n",
              "      <th>Iran</th>\n",
              "      <th>Ireland</th>\n",
              "      <th>Italy</th>\n",
              "      <th>Jamaica</th>\n",
              "      <th>Japan</th>\n",
              "      <th>Laos</th>\n",
              "      <th>Mexico</th>\n",
              "      <th>Nicaragua</th>\n",
              "      <th>Outlying-US(Guam-USVI-etc)</th>\n",
              "      <th>Peru</th>\n",
              "      <th>Philippines</th>\n",
              "      <th>Poland</th>\n",
              "      <th>Portugal</th>\n",
              "      <th>Puerto-Rico</th>\n",
              "      <th>Scotland</th>\n",
              "      <th>South</th>\n",
              "      <th>Taiwan</th>\n",
              "      <th>Thailand</th>\n",
              "      <th>Trinadad&amp;Tobago</th>\n",
              "      <th>United-States</th>\n",
              "      <th>Vietnam</th>\n",
              "      <th>Yugoslavia</th>\n",
              "    </tr>\n",
              "    <tr>\n",
              "      <th>salary</th>\n",
              "      <th></th>\n",
              "      <th></th>\n",
              "      <th></th>\n",
              "      <th></th>\n",
              "      <th></th>\n",
              "      <th></th>\n",
              "      <th></th>\n",
              "      <th></th>\n",
              "      <th></th>\n",
              "      <th></th>\n",
              "      <th></th>\n",
              "      <th></th>\n",
              "      <th></th>\n",
              "      <th></th>\n",
              "      <th></th>\n",
              "      <th></th>\n",
              "      <th></th>\n",
              "      <th></th>\n",
              "      <th></th>\n",
              "      <th></th>\n",
              "      <th></th>\n",
              "      <th></th>\n",
              "      <th></th>\n",
              "      <th></th>\n",
              "      <th></th>\n",
              "      <th></th>\n",
              "      <th></th>\n",
              "      <th></th>\n",
              "      <th></th>\n",
              "      <th></th>\n",
              "      <th></th>\n",
              "      <th></th>\n",
              "      <th></th>\n",
              "      <th></th>\n",
              "      <th></th>\n",
              "      <th></th>\n",
              "      <th></th>\n",
              "      <th></th>\n",
              "      <th></th>\n",
              "      <th></th>\n",
              "      <th></th>\n",
              "      <th></th>\n",
              "    </tr>\n",
              "  </thead>\n",
              "  <tbody>\n",
              "    <tr>\n",
              "      <th>&lt;=50K</th>\n",
              "      <td>40.164760</td>\n",
              "      <td>41.416667</td>\n",
              "      <td>37.914634</td>\n",
              "      <td>37.381818</td>\n",
              "      <td>38.684211</td>\n",
              "      <td>37.985714</td>\n",
              "      <td>42.338235</td>\n",
              "      <td>38.041667</td>\n",
              "      <td>36.030928</td>\n",
              "      <td>40.483333</td>\n",
              "      <td>41.058824</td>\n",
              "      <td>39.139785</td>\n",
              "      <td>41.809524</td>\n",
              "      <td>39.360656</td>\n",
              "      <td>36.325</td>\n",
              "      <td>40.0</td>\n",
              "      <td>34.333333</td>\n",
              "      <td>39.142857</td>\n",
              "      <td>31.3</td>\n",
              "      <td>38.233333</td>\n",
              "      <td>41.44</td>\n",
              "      <td>40.947368</td>\n",
              "      <td>39.625</td>\n",
              "      <td>38.239437</td>\n",
              "      <td>41.000000</td>\n",
              "      <td>40.375</td>\n",
              "      <td>40.003279</td>\n",
              "      <td>36.09375</td>\n",
              "      <td>41.857143</td>\n",
              "      <td>35.068966</td>\n",
              "      <td>38.065693</td>\n",
              "      <td>38.166667</td>\n",
              "      <td>41.939394</td>\n",
              "      <td>38.470588</td>\n",
              "      <td>39.444444</td>\n",
              "      <td>40.15625</td>\n",
              "      <td>33.774194</td>\n",
              "      <td>42.866667</td>\n",
              "      <td>37.058824</td>\n",
              "      <td>38.799127</td>\n",
              "      <td>37.193548</td>\n",
              "      <td>41.6</td>\n",
              "    </tr>\n",
              "    <tr>\n",
              "      <th>&gt;50K</th>\n",
              "      <td>45.547945</td>\n",
              "      <td>40.000000</td>\n",
              "      <td>45.641026</td>\n",
              "      <td>38.900000</td>\n",
              "      <td>50.000000</td>\n",
              "      <td>42.440000</td>\n",
              "      <td>47.000000</td>\n",
              "      <td>48.750000</td>\n",
              "      <td>45.000000</td>\n",
              "      <td>44.533333</td>\n",
              "      <td>50.750000</td>\n",
              "      <td>44.977273</td>\n",
              "      <td>50.625000</td>\n",
              "      <td>36.666667</td>\n",
              "      <td>42.750</td>\n",
              "      <td>NaN</td>\n",
              "      <td>60.000000</td>\n",
              "      <td>45.000000</td>\n",
              "      <td>50.0</td>\n",
              "      <td>46.475000</td>\n",
              "      <td>47.50</td>\n",
              "      <td>48.000000</td>\n",
              "      <td>45.400</td>\n",
              "      <td>41.100000</td>\n",
              "      <td>47.958333</td>\n",
              "      <td>40.000</td>\n",
              "      <td>46.575758</td>\n",
              "      <td>37.50000</td>\n",
              "      <td>NaN</td>\n",
              "      <td>40.000000</td>\n",
              "      <td>43.032787</td>\n",
              "      <td>39.000000</td>\n",
              "      <td>41.500000</td>\n",
              "      <td>39.416667</td>\n",
              "      <td>46.666667</td>\n",
              "      <td>51.43750</td>\n",
              "      <td>46.800000</td>\n",
              "      <td>58.333333</td>\n",
              "      <td>40.000000</td>\n",
              "      <td>45.505369</td>\n",
              "      <td>39.200000</td>\n",
              "      <td>49.5</td>\n",
              "    </tr>\n",
              "  </tbody>\n",
              "</table>\n",
              "</div>"
            ],
            "text/plain": [
              "native-country          ?   Cambodia  ...    Vietnam   Yugoslavia\n",
              "salary                                ...                        \n",
              " <=50K          40.164760  41.416667  ...  37.193548         41.6\n",
              " >50K           45.547945  40.000000  ...  39.200000         49.5\n",
              "\n",
              "[2 rows x 42 columns]"
            ]
          },
          "metadata": {},
          "execution_count": 36
        }
      ]
    }
  ]
}