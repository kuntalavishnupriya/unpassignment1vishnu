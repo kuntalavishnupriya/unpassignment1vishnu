{
  "nbformat": 4,
  "nbformat_minor": 0,
  "metadata": {
    "kernelspec": {
      "display_name": "Python 3",
      "language": "python",
      "name": "python3"
    },
    "language_info": {
      "codemirror_mode": {
        "name": "ipython",
        "version": 3
      },
      "file_extension": ".py",
      "mimetype": "text/x-python",
      "name": "python",
      "nbconvert_exporter": "python",
      "pygments_lexer": "ipython3",
      "version": "3.7.3"
    },
    "learntools_metadata": {
      "lesson_index": 0,
      "type": "exercise"
    },
    "colab": {
      "name": "Ex1.ipynb",
      "provenance": [],
      "collapsed_sections": [],
      "include_colab_link": true
    }
  },
  "cells": [
    {
      "cell_type": "markdown",
      "metadata": {
        "id": "view-in-github",
        "colab_type": "text"
      },
      "source": [
        "<a href=\"https://colab.research.google.com/github/kuntalavishnupriya/unpassignment1vishnu/blob/main/Ex1.ipynb\" target=\"_parent\"><img src=\"https://colab.research.google.com/assets/colab-badge.svg\" alt=\"Open In Colab\"/></a>"
      ]
    },
    {
      "cell_type": "markdown",
      "metadata": {
        "id": "S8k959jUZPaZ"
      },
      "source": [
        "Notebooks are composed of blocks (called \"cells\") of text and code. Each of these is editable, though you'll mainly be editing the code cells to answer some questions.\n",
        "\n",
        "To get started, try running the code cell below (by pressing the ► button, or clicking on the cell and pressing ctrl+enter on your keyboard)."
      ]
    },
    {
      "cell_type": "code",
      "metadata": {
        "colab": {
          "base_uri": "https://localhost:8080/"
        },
        "id": "Kb_AxJQ_ZPah",
        "outputId": "c3dace0a-5680-48cb-d8a4-1a0c0afe4db5"
      },
      "source": [
        "print(\"You've successfully run some Python code\")\n",
        "print(\"Congratulations!\")"
      ],
      "execution_count": null,
      "outputs": [
        {
          "output_type": "stream",
          "name": "stdout",
          "text": [
            "You've successfully run some Python code\n",
            "Congratulations!\n"
          ]
        }
      ]
    },
    {
      "cell_type": "code",
      "metadata": {
        "id": "lPsOdJQQZx13"
      },
      "source": [
        ""
      ],
      "execution_count": null,
      "outputs": []
    },
    {
      "cell_type": "markdown",
      "metadata": {
        "id": "dvCV-UZUZPai"
      },
      "source": [
        "# Setup for running exercise\n",
        "\n",
        "1. Download learntools-master by clicking [here](https://drive.google.com/file/d/1aZx9Lk1nvSwqqxyPEYnaiHhbJ40FMkew/view?usp=sharing)\n",
        "2. Extract the zip in the same folder you are running this notebook\n",
        "3. Right Click the zip and select 7-zip --> Extract Here\n",
        "4. Copy the \"learntools\" folder to C:\\ProgramData\\Anaconda3\\Lib\\site-packages (*tip: ProgramData folder is hidden)"
      ]
    },
    {
      "cell_type": "markdown",
      "metadata": {
        "id": "SsseKVZkZPai"
      },
      "source": [
        "Try adding another line of code in the cell above and re-running it. \n",
        "\n",
        "Now let's get a little fancier:  Add a new code cell by clicking on an existing code cell, hitting the escape key, and then hitting the `a` or `b` key.  The `a` key will add a cell above the current cell, and `b` adds a cell below.\n",
        "\n",
        "Great! Now you know how to use Notebooks.\n",
        "\n",
        "Each hands-on exercise starts by setting up our feedback and code checking mechanism. Run the code cell below to do that. Then you'll be ready to move on to question 0."
      ]
    },
    {
      "cell_type": "code",
      "metadata": {
        "_kg_hide-input": true,
        "_kg_hide-output": true,
        "colab": {
          "base_uri": "https://localhost:8080/"
        },
        "id": "L9vnILE1ZPaj",
        "outputId": "9952a4de-36d2-49ec-e76c-25e88717606c"
      },
      "source": [
        "!pip install git+https://github.com/ML-Challenge/learntools.git\n",
        "from learntools.core import binder; binder.bind(globals())\n",
        "from learntools.python.ex1 import *\n",
        "print(\"Setup complete! You're ready to start question 0.\")"
      ],
      "execution_count": null,
      "outputs": [
        {
          "output_type": "stream",
          "name": "stdout",
          "text": [
            "Collecting git+https://github.com/ML-Challenge/learntools.git\n",
            "  Cloning https://github.com/ML-Challenge/learntools.git to /tmp/pip-req-build-t25qx7gc\n",
            "  Running command git clone -q https://github.com/ML-Challenge/learntools.git /tmp/pip-req-build-t25qx7gc\n",
            "Building wheels for collected packages: learntools\n",
            "  Building wheel for learntools (setup.py) ... \u001b[?25l\u001b[?25hdone\n",
            "  Created wheel for learntools: filename=learntools-0.3.4-py3-none-any.whl size=207310 sha256=9a86edcda586f347610f9089df6d8281bdcdda5a1c5c61055e93179de888ef75\n",
            "  Stored in directory: /tmp/pip-ephem-wheel-cache-guksnyxh/wheels/5e/42/53/aa3198486cfc460e19152f9f799b8d0f549cb88f492acb6033\n",
            "Successfully built learntools\n",
            "Installing collected packages: learntools\n",
            "Successfully installed learntools-0.3.4\n",
            "Setup complete! You're ready to start question 0.\n"
          ]
        }
      ]
    },
    {
      "cell_type": "markdown",
      "metadata": {
        "id": "u_a7q40NZPaj"
      },
      "source": [
        "# 0.\n",
        "\n",
        "*This is a silly question intended as an introduction to the format we use for hands-on exercises throughout this course.*\n",
        "\n",
        "**What is your favorite color? **\n",
        "\n",
        "To complete this question, create a variable called `color` in the cell below with an appropriate value. The function call `q0.check()` (which we've already provided in the cell below) will check your answer."
      ]
    },
    {
      "cell_type": "code",
      "metadata": {
        "colab": {
          "base_uri": "https://localhost:8080/",
          "height": 65
        },
        "id": "Ym8GZBhVZPak",
        "outputId": "789a10a6-f1e2-4048-a787-716c9b7d07c7"
      },
      "source": [
        "# create a variable called color with an appropriate value on the line below\n",
        "# (Remember, strings in Python must be enclosed in 'single' or \"double\" quotes)\n",
        "\n",
        "# *Write you answer here*\n",
        "a=\"blue\"\n",
        "print(\"my favourate colour is\",a)\n",
        "# Check your answer\n",
        "q0.check()"
      ],
      "execution_count": null,
      "outputs": [
        {
          "output_type": "stream",
          "name": "stdout",
          "text": [
            "my favourate colour is blue\n"
          ]
        },
        {
          "output_type": "display_data",
          "data": {
            "application/javascript": [
              "parent.postMessage({\"jupyterEvent\": \"custom.exercise_interaction\", \"data\": {\"outcomeType\": 4, \"interactionType\": 1, \"questionType\": 1, \"questionId\": \"0_ExerciseFormatTutorial\", \"learnToolsVersion\": \"0.3.4\", \"valueTowardsCompletion\": 0.0, \"failureMessage\": \"\", \"exceptionClass\": \"\", \"trace\": \"\"}}, \"*\")"
            ],
            "text/plain": [
              "<IPython.core.display.Javascript object>"
            ]
          },
          "metadata": {}
        },
        {
          "output_type": "display_data",
          "data": {
            "text/markdown": "<span style=\"color:#ccaa33\">Check:</span> When you've updated the starter code, `check()` will tell you whether your code is correct. Remember, you must create the following variable: `color`",
            "text/plain": [
              "Check: When you've updated the starter code, `check()` will tell you whether your code is correct. Remember, you must create the following variable: `color`"
            ]
          },
          "metadata": {}
        }
      ]
    },
    {
      "cell_type": "markdown",
      "metadata": {
        "id": "1mZrc05UZPak"
      },
      "source": [
        "Didn't get the right answer? How do you not even know your own favorite color?!\n",
        "\n",
        "Delete the `#` in the line below to make one of the lines run. You can choose between getting a hint or the full answer by choosing which line to remove the `#` from. \n",
        "\n",
        "Removing the `#` is called uncommenting, because it changes that line from a \"comment\" which Python doesn't run to code, which Python does run."
      ]
    },
    {
      "cell_type": "code",
      "metadata": {
        "id": "Z7IbU1yYZPal"
      },
      "source": [
        "#q0.hint()\n",
        "#q0.solution()"
      ],
      "execution_count": null,
      "outputs": []
    },
    {
      "cell_type": "markdown",
      "metadata": {
        "id": "j2tYRq-wZPal"
      },
      "source": [
        "The upcoming questions work the same way. The only thing that will change are the question numbers. For the next question, you'll call `q1.check()`, `q1.hint()`, `q1.solution()`, for question 2, you'll call `q2.check()`, and so on."
      ]
    },
    {
      "cell_type": "markdown",
      "metadata": {
        "id": "6_G7y1tCZPam"
      },
      "source": [
        "<hr/>\n",
        "\n",
        "# 1.\n",
        "\n",
        "Complete the code below. In case it's helpful, here is the table of available arithmetic operations:\n",
        "\n",
        "\n",
        "\n",
        "| Operator     | Name           | Description                                            |\n",
        "|--------------|----------------|--------------------------------------------------------|\n",
        "| ``a + b``    | Addition       | Sum of ``a`` and ``b``                                 |\n",
        "| ``a - b``    | Subtraction    | Difference of ``a`` and ``b``                          |\n",
        "| ``a * b``    | Multiplication | Product of ``a`` and ``b``                             |\n",
        "| ``a / b``    | True division  | Quotient of ``a`` and ``b``                            |\n",
        "| ``a // b``   | Floor division | Quotient of ``a`` and ``b``, removing fractional parts |\n",
        "| ``a % b``    | Modulus        | Integer remainder after division of ``a`` by ``b``     |\n",
        "| ``a ** b``   | Exponentiation | ``a`` raised to the power of ``b``                     |\n",
        "| ``-a``       | Negation       | The negative of ``a``                                  |\n",
        "\n",
        "<span style=\"display:none\"></span>\n"
      ]
    },
    {
      "cell_type": "code",
      "metadata": {
        "id": "BrEq-qIYZPam",
        "colab": {
          "base_uri": "https://localhost:8080/",
          "height": 64
        },
        "outputId": "6acf413f-fb63-4426-9a03-e55efa7f32e5"
      },
      "source": [
        "pi = 3.14159 # approximate\n",
        "diameter = 3\n",
        "\n",
        "# Create a variable called 'radius' equal to half the diameter\n",
        "radius=diameter/2\n",
        "\n",
        "# Create a variable called 'area', using the formula for the area of a circle: pi times the radius squared\n",
        "area=pi*radius*radius\n",
        "print(\"Area=\",area,\"Radius=\",radius)\n",
        "\n",
        "\n",
        "\n",
        "\n",
        "# Check your answer\n",
        "q1.check()"
      ],
      "execution_count": null,
      "outputs": [
        {
          "output_type": "stream",
          "name": "stdout",
          "text": [
            "Area= 7.068577499999999 Radius= 1.5\n"
          ]
        },
        {
          "output_type": "display_data",
          "data": {
            "application/javascript": [
              "parent.postMessage({\"jupyterEvent\": \"custom.exercise_interaction\", \"data\": {\"outcomeType\": 1, \"valueTowardsCompletion\": 0.25, \"interactionType\": 1, \"questionType\": 1, \"questionId\": \"1_CircleArea\", \"learnToolsVersion\": \"0.3.4\", \"failureMessage\": \"\", \"exceptionClass\": \"\", \"trace\": \"\"}}, \"*\")"
            ],
            "text/plain": [
              "<IPython.core.display.Javascript object>"
            ]
          },
          "metadata": {}
        },
        {
          "output_type": "display_data",
          "data": {
            "text/markdown": "<span style=\"color:#33cc33\">Correct</span>",
            "text/plain": [
              "Correct"
            ]
          },
          "metadata": {}
        }
      ]
    },
    {
      "cell_type": "code",
      "metadata": {
        "id": "sARngXflZPan"
      },
      "source": [
        "# Uncomment and run the lines below if you need help.\n",
        "# q1.hint()\n",
        "# q1.solution()"
      ],
      "execution_count": null,
      "outputs": []
    },
    {
      "cell_type": "markdown",
      "metadata": {
        "id": "rEurnoLxZPan"
      },
      "source": [
        "<hr/>\n",
        "\n",
        "# 2.\n",
        "\n",
        "Add code to the following cell to swap variables `a` and `b` (so that `a` refers to the object previously referred to by `b` and vice versa)."
      ]
    },
    {
      "cell_type": "code",
      "metadata": {
        "id": "MRNSU2B6ZPan",
        "colab": {
          "base_uri": "https://localhost:8080/"
        },
        "outputId": "e82c0df7-7e0d-42e4-f9bb-eaf4aa1c199e"
      },
      "source": [
        "########### Setup code - don't touch this part ######################\n",
        "# If you're curious, these are examples of lists. We'll talk about \n",
        "# them in depth a few lessons from now. For now, just know that they're\n",
        "# yet another type of Python object, like int or float.\n",
        "a = [1, 2, 3]\n",
        "b = [3, 2, 1]\n",
        "#q2.store_original_ids()\n",
        "######################################################################\n",
        "\n",
        "# Your code goes here. Swap the values to which a and b refer.\n",
        "# If you get stuck, you can always uncomment one or both of the lines in\n",
        "# the next cell for a hint, or to peek at the solution.#\n",
        "a,b=b,a\n",
        "print(a,b)\n",
        "\n",
        "######################################################################\n",
        "\n",
        "# Check your answer\n",
        "#q2.check()"
      ],
      "execution_count": null,
      "outputs": [
        {
          "output_type": "stream",
          "name": "stdout",
          "text": [
            "[3, 2, 1] [1, 2, 3]\n"
          ]
        }
      ]
    },
    {
      "cell_type": "code",
      "metadata": {
        "id": "gqpV1uzgZPao"
      },
      "source": [
        "#q2.hint()"
      ],
      "execution_count": null,
      "outputs": []
    },
    {
      "cell_type": "code",
      "metadata": {
        "id": "DJKn9IQMZPao"
      },
      "source": [
        "#q2.solution()"
      ],
      "execution_count": null,
      "outputs": []
    },
    {
      "cell_type": "markdown",
      "metadata": {
        "id": "sy3bwM5zZPao"
      },
      "source": [
        "<hr/>\n",
        "\n",
        "# 3a.\n",
        "\n",
        "Add parentheses to the following expression so that it evaluates to 1."
      ]
    },
    {
      "cell_type": "code",
      "metadata": {
        "id": "jKjb1oBGZPao",
        "colab": {
          "base_uri": "https://localhost:8080/"
        },
        "outputId": "37bd9dc9-fa7e-4d9a-96f8-9cac47af5f45"
      },
      "source": [
        "(5 - 3) //( 2)"
      ],
      "execution_count": null,
      "outputs": [
        {
          "output_type": "execute_result",
          "data": {
            "text/plain": [
              "1"
            ]
          },
          "metadata": {},
          "execution_count": 12
        }
      ]
    },
    {
      "cell_type": "code",
      "metadata": {
        "id": "riEkmEP2ZPao"
      },
      "source": [
        "#q3.a.hint()"
      ],
      "execution_count": null,
      "outputs": []
    },
    {
      "cell_type": "code",
      "metadata": {
        "id": "ABxdLIs9ZPap"
      },
      "source": [
        "# Check your answer (Run this code cell to receive credit!)\n",
        "#q3.a.solution()"
      ],
      "execution_count": null,
      "outputs": []
    },
    {
      "cell_type": "markdown",
      "metadata": {
        "id": "hkTKf8VhZPap"
      },
      "source": [
        "# 3b.  <span title=\"A bit spicy\" style=\"color: darkgreen \">🌶️</span>\n",
        "\n",
        "<small>Questions, like this one, marked a spicy pepper are a bit harder.</small>\n",
        "\n",
        "Add parentheses to the following expression so that it evaluates to 0."
      ]
    },
    {
      "cell_type": "code",
      "metadata": {
        "id": "4XqTQF9mZPap",
        "colab": {
          "base_uri": "https://localhost:8080/"
        },
        "outputId": "96d96176-9696-41a3-c27e-daae27e4cab2"
      },
      "source": [
        "(8 - 3) * (2 -( 1 + 1))"
      ],
      "execution_count": null,
      "outputs": [
        {
          "output_type": "execute_result",
          "data": {
            "text/plain": [
              "0"
            ]
          },
          "metadata": {},
          "execution_count": 16
        }
      ]
    },
    {
      "cell_type": "code",
      "metadata": {
        "id": "tJtXVnm7ZPap"
      },
      "source": [
        "#q3.b.hint()"
      ],
      "execution_count": null,
      "outputs": []
    },
    {
      "cell_type": "code",
      "metadata": {
        "id": "Pf2Sw94uZPap"
      },
      "source": [
        "# Check your answer (Run this code cell to receive credit!)\n",
        "#q3.b.solution()"
      ],
      "execution_count": null,
      "outputs": []
    },
    {
      "cell_type": "markdown",
      "metadata": {
        "id": "hkmZH9r9ZPap"
      },
      "source": [
        "<hr/>\n",
        "\n",
        "# 4. \n",
        "Alice, Bob and Carol have agreed to pool their Halloween candy and split it evenly among themselves.\n",
        "For the sake of their friendship, any candies left over will be smashed. For example, if they collectively\n",
        "bring home 91 candies, they'll take 30 each and smash 1.\n",
        "\n",
        "Write an arithmetic expression below to calculate how many candies they must smash for a given haul."
      ]
    },
    {
      "cell_type": "code",
      "metadata": {
        "id": "b0aj9GI-ZPaq",
        "colab": {
          "base_uri": "https://localhost:8080/"
        },
        "outputId": "45add91a-6c90-4bbb-f60f-25e598424238"
      },
      "source": [
        "# Variables representing the number of candies collected by alice, bob, and carol\n",
        "alice_candies = 121\n",
        "bob_candies = 77\n",
        "carol_candies = 109\n",
        "\n",
        "# Your code goes here! Replace the right-hand side of this assignment with an expression\n",
        "# involving alice_candies, bob_candies, and carol_candies\n",
        "to_smash=(alice_candies+bob_candies+carol_candies)%3\n",
        "print(to_smash)\n",
        "# Check your answer\n",
        "#q4.check()"
      ],
      "execution_count": null,
      "outputs": [
        {
          "output_type": "stream",
          "name": "stdout",
          "text": [
            "1\n"
          ]
        }
      ]
    },
    {
      "cell_type": "code",
      "metadata": {
        "id": "03_9IPe1ZPaq"
      },
      "source": [
        "#q4.hint()\n",
        "#q4.solution()"
      ],
      "execution_count": null,
      "outputs": []
    }
  ]
}