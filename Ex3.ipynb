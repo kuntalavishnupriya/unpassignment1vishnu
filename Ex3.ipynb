{
  "nbformat": 4,
  "nbformat_minor": 0,
  "metadata": {
    "kernelspec": {
      "display_name": "Python 3",
      "language": "python",
      "name": "python3"
    },
    "language_info": {
      "codemirror_mode": {
        "name": "ipython",
        "version": 3
      },
      "file_extension": ".py",
      "mimetype": "text/x-python",
      "name": "python",
      "nbconvert_exporter": "python",
      "pygments_lexer": "ipython3",
      "version": "3.7.3"
    },
    "learntools_metadata": {
      "lesson_index": 2,
      "type": "exercise"
    },
    "colab": {
      "name": "Ex3.ipynb",
      "provenance": [],
      "include_colab_link": true
    }
  },
  "cells": [
    {
      "cell_type": "markdown",
      "metadata": {
        "id": "view-in-github",
        "colab_type": "text"
      },
      "source": [
        "<a href=\"https://colab.research.google.com/github/kuntalavishnupriya/unpassignment1vishnu/blob/main/Ex3.ipynb\" target=\"_parent\"><img src=\"https://colab.research.google.com/assets/colab-badge.svg\" alt=\"Open In Colab\"/></a>"
      ]
    },
    {
      "cell_type": "markdown",
      "metadata": {
        "id": "AYkIRzd0-svL"
      },
      "source": [
        "In this exercise, you'll put to work what you have learned about booleans and conditionals.\n",
        "\n",
        "To get started, **run the setup code below** before writing your own code (and if you leave this notebook and come back later, don't forget to run the setup code again)."
      ]
    },
    {
      "cell_type": "code",
      "metadata": {
        "colab": {
          "base_uri": "https://localhost:8080/"
        },
        "id": "wO3xwr87-svR",
        "outputId": "f765d971-1678-46bb-cad1-e8356da51c46"
      },
      "source": [
        "!pip install git+https://github.com/ML-Challenge/learntools.git\n",
        "from learntools.core import binder; binder.bind(globals())\n",
        "from learntools.python.ex3 import *\n",
        "print('Setup complete.')"
      ],
      "execution_count": 2,
      "outputs": [
        {
          "output_type": "stream",
          "name": "stdout",
          "text": [
            "Collecting git+https://github.com/ML-Challenge/learntools.git\n",
            "  Cloning https://github.com/ML-Challenge/learntools.git to /tmp/pip-req-build-ux4fthch\n",
            "  Running command git clone -q https://github.com/ML-Challenge/learntools.git /tmp/pip-req-build-ux4fthch\n",
            "Building wheels for collected packages: learntools\n",
            "  Building wheel for learntools (setup.py) ... \u001b[?25l\u001b[?25hdone\n",
            "  Created wheel for learntools: filename=learntools-0.3.4-py3-none-any.whl size=207310 sha256=2137aea7a7f0afc15e59112ca5afbc5cce3ca0a0ab9ded0740afdf5831606dde\n",
            "  Stored in directory: /tmp/pip-ephem-wheel-cache-52mrknew/wheels/5e/42/53/aa3198486cfc460e19152f9f799b8d0f549cb88f492acb6033\n",
            "Successfully built learntools\n",
            "Installing collected packages: learntools\n",
            "Successfully installed learntools-0.3.4\n",
            "Setup complete.\n"
          ]
        }
      ]
    },
    {
      "cell_type": "markdown",
      "metadata": {
        "id": "FIs_9KDx-svS"
      },
      "source": [
        "# 1.\n",
        "\n",
        "Many programming languages have [`sign`](https://en.wikipedia.org/wiki/Sign_function) available as a built-in function. Python doesn't, but we can define our own!\n",
        "\n",
        "In the cell below, define a function called `sign` which takes a numerical argument and returns -1 if it's negative, 1 if it's positive, and 0 if it's 0."
      ]
    },
    {
      "cell_type": "code",
      "metadata": {
        "colab": {
          "base_uri": "https://localhost:8080/",
          "height": 46
        },
        "id": "Vxr3aOg1-svT",
        "outputId": "57b873ee-e681-4d31-c359-277a98762b67"
      },
      "source": [
        "# Your code goes here. Define a function called 'sign'\n",
        "def sign(x):\n",
        "    if x > 0:\n",
        "        return 1\n",
        "    elif x < 0:\n",
        "        return -1\n",
        "    else:\n",
        "        return 0\n",
        "# Check your answer\n",
        "q1.check()"
      ],
      "execution_count": 3,
      "outputs": [
        {
          "output_type": "display_data",
          "data": {
            "application/javascript": [
              "parent.postMessage({\"jupyterEvent\": \"custom.exercise_interaction\", \"data\": {\"outcomeType\": 1, \"valueTowardsCompletion\": 0.2, \"interactionType\": 1, \"questionType\": 2, \"questionId\": \"1_SignFunctionProblem\", \"learnToolsVersion\": \"0.3.4\", \"failureMessage\": \"\", \"exceptionClass\": \"\", \"trace\": \"\"}}, \"*\")"
            ],
            "text/plain": [
              "<IPython.core.display.Javascript object>"
            ]
          },
          "metadata": {}
        },
        {
          "output_type": "display_data",
          "data": {
            "text/markdown": "<span style=\"color:#33cc33\">Correct</span>",
            "text/plain": [
              "Correct"
            ]
          },
          "metadata": {}
        }
      ]
    },
    {
      "cell_type": "code",
      "metadata": {
        "id": "Tjr1SOhH-svT"
      },
      "source": [
        "#q1.solution()"
      ],
      "execution_count": 4,
      "outputs": []
    },
    {
      "cell_type": "markdown",
      "metadata": {
        "id": "hVw-Iz34-svU"
      },
      "source": [
        "# 2.\n",
        "\n",
        "We've decided to add \"logging\" to our `to_smash` function from the previous exercise."
      ]
    },
    {
      "cell_type": "code",
      "metadata": {
        "colab": {
          "base_uri": "https://localhost:8080/"
        },
        "id": "kHIUzsNQ-svU",
        "outputId": "0a73df47-c8ff-43a9-bdfd-f7b5033687f4"
      },
      "source": [
        "def to_smash(total_candies):\n",
        "    \"\"\"Return the number of leftover candies that must be smashed after distributing\n",
        "    the given number of candies evenly between 3 friends.\n",
        "    \n",
        "    >>> to_smash(91)\n",
        "    1\n",
        "    \"\"\"\n",
        "    print(\"Splitting\", total_candies, \"candies\")\n",
        "    return total_candies % 3\n",
        "\n",
        "to_smash(91)"
      ],
      "execution_count": null,
      "outputs": [
        {
          "output_type": "stream",
          "name": "stdout",
          "text": [
            "Splitting 91 candies\n"
          ]
        },
        {
          "output_type": "execute_result",
          "data": {
            "text/plain": [
              "1"
            ]
          },
          "metadata": {},
          "execution_count": 5
        }
      ]
    },
    {
      "cell_type": "markdown",
      "metadata": {
        "id": "_uLlDqQ--svV"
      },
      "source": [
        "What happens if we call it with `total_candies = 1`?"
      ]
    },
    {
      "cell_type": "code",
      "metadata": {
        "colab": {
          "base_uri": "https://localhost:8080/"
        },
        "id": "J3fMVnnP-svW",
        "outputId": "9af0722b-924a-4b47-8efe-67259c11b519"
      },
      "source": [
        "\n",
        "to_smash(1)\n"
      ],
      "execution_count": null,
      "outputs": [
        {
          "output_type": "stream",
          "name": "stdout",
          "text": [
            "Splitting 1 candies\n"
          ]
        },
        {
          "output_type": "execute_result",
          "data": {
            "text/plain": [
              "1"
            ]
          },
          "metadata": {},
          "execution_count": 9
        }
      ]
    },
    {
      "cell_type": "markdown",
      "metadata": {
        "id": "8z74R873-svX"
      },
      "source": [
        "That isn't great grammar!\n",
        "\n",
        "Modify the definition in the cell below to correct the grammar of our print statement. (If there's only one candy, we should use the singular \"candy\" instead of the plural \"candies\")"
      ]
    },
    {
      "cell_type": "code",
      "metadata": {
        "colab": {
          "base_uri": "https://localhost:8080/"
        },
        "id": "qBV_dyUCxous",
        "outputId": "274bcf3f-1f86-4074-ef50-5b07101f7e1b"
      },
      "source": [
        "def to_smash(total_candies):\n",
        "  \"\"\"Return the number of leftover candies that must be smashes after distributing\n",
        "  the given number of candies evenly between 3 friends.\n",
        "\n",
        "  >>> to_smash(91)\n",
        "  1\n",
        "  \"\"\"\n",
        "  if total_candies==1:\n",
        "    print(\"splitting\",total_candies,\"candies\")\n",
        "  return total_candies % 3\n",
        "to_smash(91)\n",
        "to_smash(1)"
      ],
      "execution_count": 6,
      "outputs": [
        {
          "output_type": "stream",
          "name": "stdout",
          "text": [
            "splitting 1 candies\n"
          ]
        },
        {
          "output_type": "execute_result",
          "data": {
            "text/plain": [
              "1"
            ]
          },
          "metadata": {},
          "execution_count": 6
        }
      ]
    },
    {
      "cell_type": "code",
      "metadata": {
        "id": "KlstYTK0BmMs"
      },
      "source": [
        "#Check your answer(Run this code cell to recieve credit!)\n",
        "#q2.solution"
      ],
      "execution_count": 39,
      "outputs": []
    },
    {
      "cell_type": "markdown",
      "metadata": {
        "id": "D7x1VXMl-sva"
      },
      "source": [
        "# 3. <span title=\"A bit spicy\" style=\"color: darkgreen \">🌶️</span>\n",
        "\n",
        "In the tutorial, we talked about deciding whether we're prepared for the weather. I said that I'm safe from today's weather if...\n",
        "- I have an umbrella...\n",
        "- or if the rain isn't too heavy and I have a hood...\n",
        "- otherwise, I'm still fine unless it's raining *and* it's a workday\n",
        "\n",
        "The function below uses our first attempt at turning this logic into a Python expression. I claimed that there was a bug in that code. Can you find it?\n",
        "\n",
        "To prove that `prepared_for_weather` is buggy, come up with a set of inputs where either:\n",
        "- the function returns `False` (but should have returned `True`), or\n",
        "- the function returned `True` (but should have returned `False`).\n",
        "\n",
        "To get credit for completing this question, your code should return a <font color='#33cc33'>Correct</font> result."
      ]
    },
    {
      "cell_type": "markdown",
      "metadata": {
        "id": "kinQzlZJ-svZ"
      },
      "source": [
        "To get credit for completing this problem, and to see the official answer, run the code cell below."
      ]
    },
    {
      "cell_type": "code",
      "metadata": {
        "colab": {
          "base_uri": "https://localhost:8080/",
          "height": 83
        },
        "id": "8CXivUWk-svb",
        "outputId": "2162f387-7b69-4bea-ff0a-54546dab988d"
      },
      "source": [
        "def prepared_for_weather(have_umbrella, rain_level, have_hood, is_workday):\n",
        "    # Don't change this code. Our goal is just to find the bug, not fix it!\n",
        "    return have_umbrella or rain_level < 5 and have_hood or not rain_level > 0 and is_workday\n",
        "\n",
        "# Change the values of these inputs so they represent a case where prepared_for_weather\n",
        "# returns the wrong answer.\n",
        "have_umbrella = True\n",
        "rain_level = 0.0\n",
        "have_hood = True\n",
        "is_workday = True\n",
        "\n",
        "# Check what the function returns given the current values of the variables above\n",
        "actual = prepared_for_weather(have_umbrella, rain_level, have_hood, is_workday)\n",
        "print(actual)\n",
        "\n",
        "# Check your answer\n",
        "q3.check()"
      ],
      "execution_count": 40,
      "outputs": [
        {
          "output_type": "stream",
          "name": "stdout",
          "text": [
            "True\n"
          ]
        },
        {
          "output_type": "display_data",
          "data": {
            "application/javascript": [
              "parent.postMessage({\"jupyterEvent\": \"custom.exercise_interaction\", \"data\": {\"outcomeType\": 2, \"failureMessage\": \"Given `have_umbrella=True`, `rain_level=0.0`, `have_hood=True`, `is_workday=True`, `prepared_for_weather` returned `True`. But I think that's correct. (We want inputs that lead to an incorrect result from `prepared_for_weather`.)\", \"interactionType\": 1, \"questionType\": 1, \"questionId\": \"3_WeatherDebug\", \"learnToolsVersion\": \"0.3.4\", \"valueTowardsCompletion\": 0.0, \"exceptionClass\": \"\", \"trace\": \"\"}}, \"*\")"
            ],
            "text/plain": [
              "<IPython.core.display.Javascript object>"
            ]
          },
          "metadata": {}
        },
        {
          "output_type": "display_data",
          "data": {
            "text/markdown": "<span style=\"color:#cc3333\">Incorrect:</span> Given `have_umbrella=True`, `rain_level=0.0`, `have_hood=True`, `is_workday=True`, `prepared_for_weather` returned `True`. But I think that's correct. (We want inputs that lead to an incorrect result from `prepared_for_weather`.)",
            "text/plain": [
              "Incorrect: Given `have_umbrella=True`, `rain_level=0.0`, `have_hood=True`, `is_workday=True`, `prepared_for_weather` returned `True`. But I think that's correct. (We want inputs that lead to an incorrect result from `prepared_for_weather`.)"
            ]
          },
          "metadata": {}
        }
      ]
    },
    {
      "cell_type": "code",
      "metadata": {
        "id": "Mb7v5q2r-svb",
        "colab": {
          "base_uri": "https://localhost:8080/",
          "height": 63
        },
        "outputId": "54fbf5aa-5e41-449a-88df-27a9e38cf2e6"
      },
      "source": [
        "q3.hint()\n",
        "#q3.solution()"
      ],
      "execution_count": 41,
      "outputs": [
        {
          "output_type": "display_data",
          "data": {
            "application/javascript": [
              "parent.postMessage({\"jupyterEvent\": \"custom.exercise_interaction\", \"data\": {\"interactionType\": 2, \"questionType\": 1, \"questionId\": \"3_WeatherDebug\", \"learnToolsVersion\": \"0.3.4\", \"valueTowardsCompletion\": 0.0, \"failureMessage\": \"\", \"exceptionClass\": \"\", \"trace\": \"\", \"outcomeType\": 4}}, \"*\")"
            ],
            "text/plain": [
              "<IPython.core.display.Javascript object>"
            ]
          },
          "metadata": {}
        },
        {
          "output_type": "display_data",
          "data": {
            "text/markdown": "<span style=\"color:#3366cc\">Hint:</span> Take a look at how we fixed our original expression in the main lesson. We added parentheses around certain subexpressions. The bug in this code is caused by Python evaluating certain operations in the \"wrong\" order.",
            "text/plain": [
              "Hint: Take a look at how we fixed our original expression in the main lesson. We added parentheses around certain subexpressions. The bug in this code is caused by Python evaluating certain operations in the \"wrong\" order."
            ]
          },
          "metadata": {}
        }
      ]
    },
    {
      "cell_type": "markdown",
      "metadata": {
        "id": "InStLUyt-svb"
      },
      "source": [
        "# 4.\n",
        "\n",
        "The function `is_negative` below is implemented correctly - it returns True if the given number is negative and False otherwise.\n",
        "\n",
        "However, it's more verbose than it needs to be. We can actually reduce the number of lines of code in this function by *75%* while keeping the same behaviour. \n",
        "\n",
        "See if you can come up with an equivalent body that uses just **one line** of code, and put it in the function `concise_is_negative`. (HINT: you don't even need Python's ternary syntax)"
      ]
    },
    {
      "cell_type": "code",
      "metadata": {
        "id": "EJfJnAHD-svb",
        "colab": {
          "base_uri": "https://localhost:8080/",
          "height": 46
        },
        "outputId": "5958393e-5a8c-4346-cd47-9f57e3ce3b6c"
      },
      "source": [
        " def is_negative(number):\n",
        "     if number < 0:\n",
        "         return True\n",
        "     else:\n",
        "        return False\n",
        "\n",
        "def concise_is_negative(number):\n",
        "    pass # Your code goes here (try to keep it to one line!)\n",
        "    return number < 0\n",
        "#Check your answer   \n",
        "q4.check()"
      ],
      "execution_count": 47,
      "outputs": [
        {
          "output_type": "display_data",
          "data": {
            "application/javascript": [
              "parent.postMessage({\"jupyterEvent\": \"custom.exercise_interaction\", \"data\": {\"outcomeType\": 1, \"valueTowardsCompletion\": 0.2, \"interactionType\": 1, \"questionType\": 2, \"questionId\": \"4_ConciseIsNegative\", \"learnToolsVersion\": \"0.3.4\", \"failureMessage\": \"\", \"exceptionClass\": \"\", \"trace\": \"\"}}, \"*\")"
            ],
            "text/plain": [
              "<IPython.core.display.Javascript object>"
            ]
          },
          "metadata": {}
        },
        {
          "output_type": "display_data",
          "data": {
            "text/markdown": "<span style=\"color:#33cc33\">Correct</span>",
            "text/plain": [
              "Correct"
            ]
          },
          "metadata": {}
        }
      ]
    },
    {
      "cell_type": "code",
      "metadata": {
        "colab": {
          "base_uri": "https://localhost:8080/",
          "height": 47
        },
        "id": "kO-Fm6RW1qJ8",
        "outputId": "4382a903-9813-478e-aff9-773868bbb63a"
      },
      "source": [
        "q4.hint()\n",
        "#q4.solution()"
      ],
      "execution_count": 48,
      "outputs": [
        {
          "output_type": "display_data",
          "data": {
            "application/javascript": [
              "parent.postMessage({\"jupyterEvent\": \"custom.exercise_interaction\", \"data\": {\"interactionType\": 2, \"questionType\": 2, \"questionId\": \"4_ConciseIsNegative\", \"learnToolsVersion\": \"0.3.4\", \"valueTowardsCompletion\": 0.0, \"failureMessage\": \"\", \"exceptionClass\": \"\", \"trace\": \"\", \"outcomeType\": 4}}, \"*\")"
            ],
            "text/plain": [
              "<IPython.core.display.Javascript object>"
            ]
          },
          "metadata": {}
        },
        {
          "output_type": "display_data",
          "data": {
            "text/markdown": "<span style=\"color:#3366cc\">Hint:</span> If the value of the expression `number < 0` is `True`, then we return `True`. If it's `False`, then we return `False`...",
            "text/plain": [
              "Hint: If the value of the expression `number < 0` is `True`, then we return `True`. If it's `False`, then we return `False`..."
            ]
          },
          "metadata": {}
        }
      ]
    },
    {
      "cell_type": "markdown",
      "metadata": {
        "id": "hW_yH0lz-svc"
      },
      "source": [
        "# 5a.\n",
        "\n",
        "The boolean variables `ketchup`, `mustard` and `onion` represent whether a customer wants a particular topping on their hot dog. We want to implement a number of boolean functions that correspond to some yes-or-no questions about the customer's order. For example:"
      ]
    },
    {
      "cell_type": "code",
      "metadata": {
        "id": "a9vXzqh_-svc"
      },
      "source": [
        "def onionless(ketchup, mustard, onion):\n",
        "    \"\"\"Return whether the customer doesn't want onions.\n",
        "    \"\"\"\n",
        "    return not onion"
      ],
      "execution_count": 49,
      "outputs": []
    },
    {
      "cell_type": "code",
      "metadata": {
        "id": "XiQPm7a3-svc",
        "colab": {
          "base_uri": "https://localhost:8080/",
          "height": 46
        },
        "outputId": "61884b8e-af7c-404e-9241-342867058651"
      },
      "source": [
        "def wants_all_toppings(ketchup, mustard, onion):\n",
        "    \"\"\"Return whether the customer wants \"the works\" (all 3 toppings)\n",
        "    \"\"\"\n",
        "    pass\n",
        "    return ketchup and mustard and onion\n",
        "# Check your answer\n",
        "q5.a.check()"
      ],
      "execution_count": 50,
      "outputs": [
        {
          "output_type": "display_data",
          "data": {
            "application/javascript": [
              "parent.postMessage({\"jupyterEvent\": \"custom.exercise_interaction\", \"data\": {\"outcomeType\": 1, \"valueTowardsCompletion\": 0.2, \"interactionType\": 1, \"questionType\": 2, \"questionId\": \"5.1_AllToppings\", \"learnToolsVersion\": \"0.3.4\", \"failureMessage\": \"\", \"exceptionClass\": \"\", \"trace\": \"\"}}, \"*\")"
            ],
            "text/plain": [
              "<IPython.core.display.Javascript object>"
            ]
          },
          "metadata": {}
        },
        {
          "output_type": "display_data",
          "data": {
            "text/markdown": "<span style=\"color:#33cc33\">Correct</span>",
            "text/plain": [
              "Correct"
            ]
          },
          "metadata": {}
        }
      ]
    },
    {
      "cell_type": "code",
      "metadata": {
        "id": "3qG8KFuV-svc"
      },
      "source": [
        "#q5.hint()\n",
        "#q5.solution()"
      ],
      "execution_count": 53,
      "outputs": []
    },
    {
      "cell_type": "markdown",
      "metadata": {
        "id": "3lhyBeJl-svd"
      },
      "source": [
        "# 5b.\n",
        "\n",
        "For the next function, fill in the body to match the English description in the docstring. "
      ]
    },
    {
      "cell_type": "code",
      "metadata": {
        "id": "T2Ls5tmO-svd",
        "colab": {
          "base_uri": "https://localhost:8080/",
          "height": 134
        },
        "outputId": "d65fd7be-dcdc-4fd5-ce5a-2ddd0cc24b1c"
      },
      "source": [
        "def wants_plain_hotdog(ketchup, mustard, onion):\n",
        "    \"\"\"Return whether the customer wants a plain hot dog with no toppings.\n",
        "    \"\"\"\n",
        "    pass\n",
        "    return not ketchup and not mustard and not onion\n",
        "# Check your answer\n",
        "q5.b.check()"
      ],
      "execution_count": 21,
      "outputs": [
        {
          "output_type": "display_data",
          "data": {
            "application/javascript": [
              "parent.postMessage({\"jupyterEvent\": \"custom.exercise_interaction\", \"data\": {\"outcomeType\": 1, \"valueTowardsCompletion\": 0.2, \"interactionType\": 1, \"questionType\": 2, \"questionId\": \"5.2_PlainDog\", \"learnToolsVersion\": \"0.3.4\", \"failureMessage\": \"\", \"exceptionClass\": \"\", \"trace\": \"\"}}, \"*\")"
            ],
            "text/plain": [
              "<IPython.core.display.Javascript object>"
            ]
          },
          "metadata": {}
        },
        {
          "output_type": "display_data",
          "data": {
            "text/markdown": "<span style=\"color:#33cc33\">Correct:</span> \n\nOne solution looks like:\n```python\nreturn not ketchup and not mustard and not onion\n```\n\nWe can also [\"factor out\" the nots](https://en.wikipedia.org/wiki/De_Morgan%27s_laws) to get:\n\n```python\nreturn not (ketchup or mustard or onion)\n```",
            "text/plain": [
              "Correct: \n",
              "\n",
              "One solution looks like:\n",
              "```python\n",
              "return not ketchup and not mustard and not onion\n",
              "```\n",
              "\n",
              "We can also [\"factor out\" the nots](https://en.wikipedia.org/wiki/De_Morgan%27s_laws) to get:\n",
              "\n",
              "```python\n",
              "return not (ketchup or mustard or onion)\n",
              "```"
            ]
          },
          "metadata": {}
        }
      ]
    },
    {
      "cell_type": "code",
      "metadata": {
        "id": "rkr3oooQ-svd"
      },
      "source": [
        "#q5.b.hint()\n",
        "#q5.b.solution()"
      ],
      "execution_count": 54,
      "outputs": []
    },
    {
      "cell_type": "markdown",
      "metadata": {
        "id": "_o_f7PcT-svd"
      },
      "source": [
        "# 5c.\n",
        "\n",
        "You know what to do: for the next function, fill in the body to match the English description in the docstring."
      ]
    },
    {
      "cell_type": "code",
      "metadata": {
        "colab": {
          "base_uri": "https://localhost:8080/",
          "height": 46
        },
        "id": "ly8Hz_iZ5Ot7",
        "outputId": "dcc9996e-c2ba-40d8-ca46-ed6fea8063b7"
      },
      "source": [
        "def exactly_one_sauce(ketchup,mustard,onion):\n",
        "    \"\"\"Return whether the customer wants either ketchup or mustard,but not both.\n",
        "    (You may be familiar with this operation under the same \"exclusive or\")\n",
        "    \"\"\"\n",
        "    pass\n",
        "    return ketchup and not mustard or mustard and not ketchup\n",
        "# Check your answer\n",
        "q5.c.check()"
      ],
      "execution_count": 55,
      "outputs": [
        {
          "output_type": "display_data",
          "data": {
            "application/javascript": [
              "parent.postMessage({\"jupyterEvent\": \"custom.exercise_interaction\", \"data\": {\"outcomeType\": 1, \"valueTowardsCompletion\": 0.2, \"interactionType\": 1, \"questionType\": 2, \"questionId\": \"5.3_OneSauce\", \"learnToolsVersion\": \"0.3.4\", \"failureMessage\": \"\", \"exceptionClass\": \"\", \"trace\": \"\"}}, \"*\")"
            ],
            "text/plain": [
              "<IPython.core.display.Javascript object>"
            ]
          },
          "metadata": {}
        },
        {
          "output_type": "display_data",
          "data": {
            "text/markdown": "<span style=\"color:#33cc33\">Correct</span>",
            "text/plain": [
              "Correct"
            ]
          },
          "metadata": {}
        }
      ]
    },
    {
      "cell_type": "code",
      "metadata": {
        "colab": {
          "base_uri": "https://localhost:8080/",
          "height": 63
        },
        "id": "twjd-3YV7A-I",
        "outputId": "3f0d4dfa-bbc6-4884-866f-c5c310746426"
      },
      "source": [
        "#q5.c.hint()\n",
        "q5.c.solution()"
      ],
      "execution_count": 57,
      "outputs": [
        {
          "output_type": "display_data",
          "data": {
            "application/javascript": [
              "parent.postMessage({\"jupyterEvent\": \"custom.exercise_interaction\", \"data\": {\"interactionType\": 3, \"questionType\": 2, \"questionId\": \"5.3_OneSauce\", \"learnToolsVersion\": \"0.3.4\", \"valueTowardsCompletion\": 0.0, \"failureMessage\": \"\", \"exceptionClass\": \"\", \"trace\": \"\", \"outcomeType\": 4}}, \"*\")"
            ],
            "text/plain": [
              "<IPython.core.display.Javascript object>"
            ]
          },
          "metadata": {}
        },
        {
          "output_type": "display_data",
          "data": {
            "text/markdown": "<span style=\"color:#33cc99\">Solution:</span> \n```python\nreturn (ketchup and not mustard) or (mustard and not ketchup)\n```",
            "text/plain": [
              "Solution: \n",
              "```python\n",
              "return (ketchup and not mustard) or (mustard and not ketchup)\n",
              "```"
            ]
          },
          "metadata": {}
        }
      ]
    },
    {
      "cell_type": "markdown",
      "metadata": {
        "id": "jILd7DB7-sve"
      },
      "source": [
        "# 6. <span title=\"A bit spicy\" style=\"color: darkgreen \">🌶️</span>\n",
        "\n",
        "We’ve seen that calling `bool()` on an integer returns `False` if it’s equal to 0 and `True` otherwise. What happens if we call `int()` on a bool? Try it out in the notebook cell below.\n",
        "\n",
        "Can you take advantage of this to write a succinct function that corresponds to the English sentence \"does the customer want exactly one topping?\"?"
      ]
    },
    {
      "cell_type": "code",
      "metadata": {
        "id": "MoPWnqKY-svd",
        "colab": {
          "base_uri": "https://localhost:8080/",
          "height": 153
        },
        "outputId": "a28f42e0-7819-4c76-a397-88833e89f96e"
      },
      "source": [
        "def exactly_one_topping(ketchup, mustard, onion):\n",
        "    \"\"\"Return whether the customer wants exactly ketchup or mustard, but not both.\n",
        "    (You may be familiar with this operation under the name \"exclusive or\")\n",
        "    \"\"\"\n",
        "    pass\n",
        "    return(ketchup + mustard + onion) == 1\n",
        "# Check your answer\n",
        "q6.check()"
      ],
      "execution_count": 25,
      "outputs": [
        {
          "output_type": "display_data",
          "data": {
            "application/javascript": [
              "parent.postMessage({\"jupyterEvent\": \"custom.exercise_interaction\", \"data\": {\"outcomeType\": 1, \"valueTowardsCompletion\": 0.2, \"interactionType\": 1, \"questionType\": 2, \"questionId\": \"6_OneTopping\", \"learnToolsVersion\": \"0.3.4\", \"failureMessage\": \"\", \"exceptionClass\": \"\", \"trace\": \"\"}}, \"*\")"
            ],
            "text/plain": [
              "<IPython.core.display.Javascript object>"
            ]
          },
          "metadata": {}
        },
        {
          "output_type": "display_data",
          "data": {
            "text/markdown": "<span style=\"color:#33cc33\">Correct:</span> \n\nThis condition would be pretty complicated to express using just `and`, `or` and `not`, but using boolean-to-integer conversion gives us this short solution:\n```python\nreturn (int(ketchup) + int(mustard) + int(onion)) == 1\n```\n\nFun fact: we don't technically need to call `int` on the arguments. Just by doing addition with booleans, Python implicitly does the integer conversion. So we could also write...\n\n```python\nreturn (ketchup + mustard + onion) == 1\n```",
            "text/plain": [
              "Correct: \n",
              "\n",
              "This condition would be pretty complicated to express using just `and`, `or` and `not`, but using boolean-to-integer conversion gives us this short solution:\n",
              "```python\n",
              "return (int(ketchup) + int(mustard) + int(onion)) == 1\n",
              "```\n",
              "\n",
              "Fun fact: we don't technically need to call `int` on the arguments. Just by doing addition with booleans, Python implicitly does the integer conversion. So we could also write...\n",
              "\n",
              "```python\n",
              "return (ketchup + mustard + onion) == 1\n",
              "```"
            ]
          },
          "metadata": {}
        }
      ]
    },
    {
      "cell_type": "code",
      "metadata": {
        "id": "_EzGvqjN-sve",
        "colab": {
          "base_uri": "https://localhost:8080/",
          "height": 129
        },
        "outputId": "879d4986-a6e2-4f08-d599-ec117a852019"
      },
      "source": [
        "#q6.hint()\n",
        "q6.solution()"
      ],
      "execution_count": 27,
      "outputs": [
        {
          "output_type": "display_data",
          "data": {
            "application/javascript": [
              "parent.postMessage({\"jupyterEvent\": \"custom.exercise_interaction\", \"data\": {\"interactionType\": 3, \"questionType\": 2, \"questionId\": \"6_OneTopping\", \"learnToolsVersion\": \"0.3.4\", \"valueTowardsCompletion\": 0.0, \"failureMessage\": \"\", \"exceptionClass\": \"\", \"trace\": \"\", \"outcomeType\": 4}}, \"*\")"
            ],
            "text/plain": [
              "<IPython.core.display.Javascript object>"
            ]
          },
          "metadata": {}
        },
        {
          "output_type": "display_data",
          "data": {
            "text/markdown": "<span style=\"color:#33cc99\">Solution:</span> This condition would be pretty complicated to express using just `and`, `or` and `not`, but using boolean-to-integer conversion gives us this short solution:\n```python\nreturn (int(ketchup) + int(mustard) + int(onion)) == 1\n```\n\nFun fact: we don't technically need to call `int` on the arguments. Just by doing addition with booleans, Python implicitly does the integer conversion. So we could also write...\n\n```python\nreturn (ketchup + mustard + onion) == 1\n```",
            "text/plain": [
              "Solution: This condition would be pretty complicated to express using just `and`, `or` and `not`, but using boolean-to-integer conversion gives us this short solution:\n",
              "```python\n",
              "return (int(ketchup) + int(mustard) + int(onion)) == 1\n",
              "```\n",
              "\n",
              "Fun fact: we don't technically need to call `int` on the arguments. Just by doing addition with booleans, Python implicitly does the integer conversion. So we could also write...\n",
              "\n",
              "```python\n",
              "return (ketchup + mustard + onion) == 1\n",
              "```"
            ]
          },
          "metadata": {}
        }
      ]
    },
    {
      "cell_type": "markdown",
      "metadata": {
        "id": "ZcAnDT0I-sve"
      },
      "source": [
        "# 7. <span title=\"A bit spicy\" style=\"color: darkgreen \">🌶️</span> (Optional)\n",
        "\n",
        "In this problem we'll be working with a simplified version of [blackjack](https://en.wikipedia.org/wiki/Blackjack) (aka twenty-one). In this version there is one player (who you'll control) and a dealer. Play proceeds as follows:\n",
        "\n",
        "- The player is dealt two face-up cards. The dealer is dealt one face-up card.\n",
        "- The player may ask to be dealt another card ('hit') as many times as they wish. If the sum of their cards exceeds 21, they lose the round immediately.\n",
        "- The dealer then deals additional cards to himself until either:\n",
        "    - the sum of the dealer's cards exceeds 21, in which case the player wins the round\n",
        "    - the sum of the dealer's cards is greater than or equal to 17. If the player's total is greater than the dealer's, the player wins. Otherwise, the dealer wins (even in case of a tie).\n",
        "    \n",
        "When calculating the sum of cards, Jack, Queen, and King count for 10. Aces can count as 1 or 11 (when referring to a player's \"total\" above, we mean the largest total that can be made without exceeding 21. So e.g. A+8 = 19, A+8+8 = 17)\n",
        "\n",
        "For this problem, you'll write a function representing the player's decision-making strategy in this game. We've provided a very unintelligent implementation below:"
      ]
    },
    {
      "cell_type": "code",
      "metadata": {
        "id": "J3yQ3ydU-svf"
      },
      "source": [
        "def should_hit(dealer_total, player_total, player_low_aces, player_high_aces):\n",
        "    \"\"\"Return True if the player should hit (request another card) given the current game\n",
        "    state, or False if the player should stay.\n",
        "    When calculating a hand's total value, we count aces as \"high\" (with value 11) if doing so\n",
        "    doesn't bring the total above 21, otherwise we count them as low (with value 1). \n",
        "    For example, if the player's hand is {A, A, A, 7}, we will count it as 11 + 1 + 1 + 7,\n",
        "    and therefore set player_total=20, player_low_aces=2, player_high_aces=1.\n",
        "    \"\"\"\n",
        "    if player_total < 20:\n",
        "      return True\n",
        "    if player_total >=20:\n",
        "      return False\n",
        "    else:\n",
        "      return False\n",
        "\n"
      ],
      "execution_count": 32,
      "outputs": []
    },
    {
      "cell_type": "markdown",
      "metadata": {
        "id": "Mv7R6dEW-sve"
      },
      "source": [
        "This very conservative agent *always* sticks with the hand of two cards that they're dealt.\n",
        "\n",
        "We'll be simulating games between your player agent and our own dealer agent by calling your function.\n",
        "\n",
        "Try running the function below to see an example of a simulated game:"
      ]
    },
    {
      "cell_type": "code",
      "metadata": {
        "id": "VHVm6tmu-sve",
        "colab": {
          "base_uri": "https://localhost:8080/"
        },
        "outputId": "95a74a66-906d-4023-d52f-432757b661d3"
      },
      "source": [
        "q7.simulate_one_game()"
      ],
      "execution_count": 33,
      "outputs": [
        {
          "output_type": "stream",
          "name": "stdout",
          "text": [
            "Player starts with 4 and 2 (total = 6)\n",
            "Dealer starts with 6\n",
            "\n",
            "__Player's turn__\n",
            "Player hits and receives 6. (total = 12)\n",
            "Player hits and receives Q. (total = 22)\n",
            "Player busts! Dealer wins.\n"
          ]
        }
      ]
    },
    {
      "cell_type": "markdown",
      "metadata": {
        "id": "6JVlBo3A-svf"
      },
      "source": [
        "The real test of your agent's mettle is their average win rate over many games. Try calling the function below to simulate 50000 games of blackjack (it may take a couple seconds):"
      ]
    },
    {
      "cell_type": "code",
      "metadata": {
        "colab": {
          "base_uri": "https://localhost:8080/"
        },
        "id": "T7qP34-g7_Uy",
        "outputId": "4207f806-36a6-4302-e3e3-7aaba8a9829c"
      },
      "source": [
        "q7.simulate(n_games=50000)"
      ],
      "execution_count": 36,
      "outputs": [
        {
          "output_type": "stream",
          "name": "stdout",
          "text": [
            "Player won 14803 out of 50000 games (win rate = 29.6%)\n"
          ]
        }
      ]
    },
    {
      "cell_type": "markdown",
      "metadata": {
        "id": "YH-mBc37-svf"
      },
      "source": [
        "Our dumb agent that completely ignores the game state still manages to win shockingly often!\n",
        "\n",
        "Try adding some more smarts to the `should_hit` function and see how it affects the results."
      ]
    },
    {
      "cell_type": "code",
      "metadata": {
        "id": "8rIIvZbt-sve",
        "colab": {
          "base_uri": "https://localhost:8080/"
        },
        "outputId": "7e835d66-59ff-44d0-d6a6-1c44477472ba"
      },
      "source": [
        "def should_hit(dealer_total, player_total, player_low_aces, player_high_aces):\n",
        "    \"\"\"Return True if the player should hit (request another card) given the current game\n",
        "    state, or False if the player should stay.\n",
        "    When calculating a hand's total value, we count aces as \"high\" (with value 11) if doing so\n",
        "    doesn't bring the total above 21, otherwise we count them as low (with value 1). \n",
        "    For example, if the player's hand is {A, A, A, 7}, we will count it as 11 + 1 + 1 + 7,\n",
        "    and therefore set player_total=20, player_low_aces=2, player_high_aces=1.\n",
        "    \"\"\"\n",
        "    return False\n",
        "q7.simulate(n_games=50000)\n",
        "          "
      ],
      "execution_count": 37,
      "outputs": [
        {
          "output_type": "stream",
          "name": "stdout",
          "text": [
            "Player won 18834 out of 50000 games (win rate = 37.7%)\n"
          ]
        }
      ]
    }
  ]
}